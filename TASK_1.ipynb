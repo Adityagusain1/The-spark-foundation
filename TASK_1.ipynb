{
  "nbformat": 4,
  "nbformat_minor": 0,
  "metadata": {
    "colab": {
      "name": "TASK 1",
      "provenance": []
    },
    "kernelspec": {
      "name": "python3",
      "display_name": "Python 3"
    },
    "language_info": {
      "name": "python"
    }
  },
  "cells": [
    {
      "cell_type": "markdown",
      "metadata": {
        "id": "Vpdvf5k5jBcP"
      },
      "source": [
        "**NAME : ADITYA GUSAIN**\n",
        "\n",
        "**Task 1 : THE SPARKS FOUNDATION May'21**\n",
        "\n",
        "**Predict the percentage of an student based on the no. of study hours.**\n",
        "\n",
        "Aim --\n",
        "\n",
        "**This is a simple regression task where we have to predict the percentage of a student based on the no. of study hours. also we have to predict the score if a student studies for 9.25 hrs/day**\n",
        "\n",
        "\n",
        "\n"
      ]
    },
    {
      "cell_type": "code",
      "metadata": {
        "id": "L9Mke4yCfhN8"
      },
      "source": [
        "import pandas as pd\n",
        "import numpy as np\n",
        "import seaborn as sns\n",
        "import matplotlib.pyplot as plt"
      ],
      "execution_count": 23,
      "outputs": []
    },
    {
      "cell_type": "code",
      "metadata": {
        "colab": {
          "base_uri": "https://localhost:8080/",
          "height": 202
        },
        "id": "ZgTUFxBAflfZ",
        "outputId": "08b61e5a-a6d2-4d16-9c42-2b90b973498c"
      },
      "source": [
        "df = pd.read_csv('/content/Book1.csv')\n",
        "df.head()"
      ],
      "execution_count": 24,
      "outputs": [
        {
          "output_type": "execute_result",
          "data": {
            "text/html": [
              "<div>\n",
              "<style scoped>\n",
              "    .dataframe tbody tr th:only-of-type {\n",
              "        vertical-align: middle;\n",
              "    }\n",
              "\n",
              "    .dataframe tbody tr th {\n",
              "        vertical-align: top;\n",
              "    }\n",
              "\n",
              "    .dataframe thead th {\n",
              "        text-align: right;\n",
              "    }\n",
              "</style>\n",
              "<table border=\"1\" class=\"dataframe\">\n",
              "  <thead>\n",
              "    <tr style=\"text-align: right;\">\n",
              "      <th></th>\n",
              "      <th>Hours</th>\n",
              "      <th>Scores</th>\n",
              "    </tr>\n",
              "  </thead>\n",
              "  <tbody>\n",
              "    <tr>\n",
              "      <th>0</th>\n",
              "      <td>2.5</td>\n",
              "      <td>21</td>\n",
              "    </tr>\n",
              "    <tr>\n",
              "      <th>1</th>\n",
              "      <td>5.1</td>\n",
              "      <td>47</td>\n",
              "    </tr>\n",
              "    <tr>\n",
              "      <th>2</th>\n",
              "      <td>3.2</td>\n",
              "      <td>27</td>\n",
              "    </tr>\n",
              "    <tr>\n",
              "      <th>3</th>\n",
              "      <td>8.5</td>\n",
              "      <td>75</td>\n",
              "    </tr>\n",
              "    <tr>\n",
              "      <th>4</th>\n",
              "      <td>3.5</td>\n",
              "      <td>30</td>\n",
              "    </tr>\n",
              "  </tbody>\n",
              "</table>\n",
              "</div>"
            ],
            "text/plain": [
              "   Hours  Scores\n",
              "0    2.5      21\n",
              "1    5.1      47\n",
              "2    3.2      27\n",
              "3    8.5      75\n",
              "4    3.5      30"
            ]
          },
          "metadata": {
            "tags": []
          },
          "execution_count": 24
        }
      ]
    },
    {
      "cell_type": "markdown",
      "metadata": {
        "id": "l-E_f4c6iCVH"
      },
      "source": [
        "**Dataset reading**"
      ]
    },
    {
      "cell_type": "code",
      "metadata": {
        "colab": {
          "base_uri": "https://localhost:8080/"
        },
        "id": "433Z3Xzgf5K6",
        "outputId": "223c09f9-3894-4a0c-c0ed-34d3f7269e22"
      },
      "source": [
        "df.shape"
      ],
      "execution_count": 25,
      "outputs": [
        {
          "output_type": "execute_result",
          "data": {
            "text/plain": [
              "(25, 2)"
            ]
          },
          "metadata": {
            "tags": []
          },
          "execution_count": 25
        }
      ]
    },
    {
      "cell_type": "markdown",
      "metadata": {
        "id": "7JYOmwLLiHe9"
      },
      "source": [
        "**1. Data Visualization**"
      ]
    },
    {
      "cell_type": "code",
      "metadata": {
        "colab": {
          "base_uri": "https://localhost:8080/",
          "height": 508
        },
        "id": "KXRtRJ-rf615",
        "outputId": "1c875085-9d0a-45a6-de57-71c6dd1dc9e4"
      },
      "source": [
        "plt.figure(figsize=(10,8))\n",
        "plt.title('Study hours VS Scores')\n",
        "sns.scatterplot(x = 'Scores' , y = 'Hours', data =df)\n",
        "plt.show()\n"
      ],
      "execution_count": 26,
      "outputs": [
        {
          "output_type": "display_data",
          "data": {
            "image/png": "[encoded data removed]",
            "text/plain": [
              "<Figure size 720x576 with 1 Axes>"
            ]
          },
          "metadata": {
            "tags": []
          }
        }
      ]
    },
    {
      "cell_type": "markdown",
      "metadata": {
        "id": "Dwy4Uv8TiMvZ"
      },
      "source": [
        "Number of Hours increases Score is also increases so that the relation between Hours and Score(percentage) is Positive\n",
        "\n",
        "Relationship between Hours and Scores"
      ]
    },
    {
      "cell_type": "code",
      "metadata": {
        "colab": {
          "base_uri": "https://localhost:8080/",
          "height": 110
        },
        "id": "zANsQjdBgBlW",
        "outputId": "36df8604-7156-4509-c6ca-62f3b8d391c2"
      },
      "source": [
        "df.corr()"
      ],
      "execution_count": 27,
      "outputs": [
        {
          "output_type": "execute_result",
          "data": {
            "text/html": [
              "<div>\n",
              "<style scoped>\n",
              "    .dataframe tbody tr th:only-of-type {\n",
              "        vertical-align: middle;\n",
              "    }\n",
              "\n",
              "    .dataframe tbody tr th {\n",
              "        vertical-align: top;\n",
              "    }\n",
              "\n",
              "    .dataframe thead th {\n",
              "        text-align: right;\n",
              "    }\n",
              "</style>\n",
              "<table border=\"1\" class=\"dataframe\">\n",
              "  <thead>\n",
              "    <tr style=\"text-align: right;\">\n",
              "      <th></th>\n",
              "      <th>Hours</th>\n",
              "      <th>Scores</th>\n",
              "    </tr>\n",
              "  </thead>\n",
              "  <tbody>\n",
              "    <tr>\n",
              "      <th>Hours</th>\n",
              "      <td>1.000000</td>\n",
              "      <td>0.976191</td>\n",
              "    </tr>\n",
              "    <tr>\n",
              "      <th>Scores</th>\n",
              "      <td>0.976191</td>\n",
              "      <td>1.000000</td>\n",
              "    </tr>\n",
              "  </tbody>\n",
              "</table>\n",
              "</div>"
            ],
            "text/plain": [
              "           Hours    Scores\n",
              "Hours   1.000000  0.976191\n",
              "Scores  0.976191  1.000000"
            ]
          },
          "metadata": {
            "tags": []
          },
          "execution_count": 27
        }
      ]
    },
    {
      "cell_type": "code",
      "metadata": {
        "colab": {
          "base_uri": "https://localhost:8080/",
          "height": 248
        },
        "id": "h7Jla8FggDdF",
        "outputId": "aed0bc91-aa09-4703-8a1e-2eab3bd31a4f"
      },
      "source": [
        "sns.boxplot(data = df , y = df['Hours'])\n",
        "plt.show()\n"
      ],
      "execution_count": 28,
      "outputs": [
        {
          "output_type": "display_data",
          "data": {
            "image/png": "[encoded data removed]",
            "text/plain": [
              "<Figure size 432x288 with 1 Axes>"
            ]
          },
          "metadata": {
            "tags": []
          }
        }
      ]
    },
    {
      "cell_type": "markdown",
      "metadata": {
        "id": "XxNIiKodiTr1"
      },
      "source": [
        "\n",
        "**2.Data Preparing**"
      ]
    },
    {
      "cell_type": "code",
      "metadata": {
        "id": "XqBSyIj0gKKe"
      },
      "source": [
        "X = df.iloc[:, :-1].values  \n",
        "y = df.iloc[:, 1].values"
      ],
      "execution_count": 31,
      "outputs": []
    },
    {
      "cell_type": "markdown",
      "metadata": {
        "id": "8-FdpzeQiYPw"
      },
      "source": [
        "\n",
        "**3.Train Test Split**\n",
        "\n",
        "**we will split the dataset into 75% training and 25% testing set.**"
      ]
    },
    {
      "cell_type": "code",
      "metadata": {
        "id": "di1ktY_-gOVv"
      },
      "source": [
        "from sklearn.model_selection import train_test_split"
      ],
      "execution_count": 32,
      "outputs": []
    },
    {
      "cell_type": "code",
      "metadata": {
        "id": "tp_eNtkDgSGA"
      },
      "source": [
        "X_train, X_test, y_train, y_test = train_test_split(X, y, test_size=0.80, random_state=5)"
      ],
      "execution_count": 33,
      "outputs": []
    },
    {
      "cell_type": "markdown",
      "metadata": {
        "id": "7VZS5eb1ifdv"
      },
      "source": [
        "**4. Model Building**"
      ]
    },
    {
      "cell_type": "code",
      "metadata": {
        "id": "u_3IhrKigVtP"
      },
      "source": [
        "from sklearn.linear_model import LinearRegression\n",
        "model=LinearRegression()"
      ],
      "execution_count": 34,
      "outputs": []
    },
    {
      "cell_type": "code",
      "metadata": {
        "colab": {
          "base_uri": "https://localhost:8080/"
        },
        "id": "OcGn6bULgYwj",
        "outputId": "18bbb536-1f4b-475d-e068-69f91ae1b814"
      },
      "source": [
        "model.fit(X_train, y_train)"
      ],
      "execution_count": 35,
      "outputs": [
        {
          "output_type": "execute_result",
          "data": {
            "text/plain": [
              "LinearRegression(copy_X=True, fit_intercept=True, n_jobs=None, normalize=False)"
            ]
          },
          "metadata": {
            "tags": []
          },
          "execution_count": 35
        }
      ]
    },
    {
      "cell_type": "code",
      "metadata": {
        "id": "HFbyt9o7gc9i"
      },
      "source": [
        "reg = model.coef_*X+model.intercept_"
      ],
      "execution_count": 36,
      "outputs": []
    },
    {
      "cell_type": "code",
      "metadata": {
        "colab": {
          "base_uri": "https://localhost:8080/",
          "height": 386
        },
        "id": "j0dGHFEVggus",
        "outputId": "2b44c14b-b2e5-45a9-e8f1-86c21c74a3e1"
      },
      "source": [
        "plt.figure(figsize= (8,6))\n",
        "plt.scatter(X, y)\n",
        "plt.title('Regression Line')\n",
        "plt.plot(X, reg, color = 'r');\n",
        "plt.show()"
      ],
      "execution_count": 37,
      "outputs": [
        {
          "output_type": "display_data",
          "data": {
            "image/png": "[encoded data removed]",
            "text/plain": [
              "<Figure size 576x432 with 1 Axes>"
            ]
          },
          "metadata": {
            "tags": []
          }
        }
      ]
    },
    {
      "cell_type": "markdown",
      "metadata": {
        "id": "H5iysHttioMF"
      },
      "source": [
        "\n",
        "**5.Predictions and Model Evaluations**"
      ]
    },
    {
      "cell_type": "code",
      "metadata": {
        "id": "Et2vr8QKg1x9"
      },
      "source": [
        "predictions = model.predict(X_test)"
      ],
      "execution_count": 38,
      "outputs": []
    },
    {
      "cell_type": "code",
      "metadata": {
        "colab": {
          "base_uri": "https://localhost:8080/"
        },
        "id": "IrlJlDEFg5Mm",
        "outputId": "1858b0e1-171f-4ac6-aa76-7736346c3fa0"
      },
      "source": [
        "predictions[:5]"
      ],
      "execution_count": 39,
      "outputs": [
        {
          "output_type": "execute_result",
          "data": {
            "text/plain": [
              "array([73.10060178, 61.53385008, 35.73109628, 75.76985217, 49.96709838])"
            ]
          },
          "metadata": {
            "tags": []
          },
          "execution_count": 39
        }
      ]
    },
    {
      "cell_type": "code",
      "metadata": {
        "colab": {
          "base_uri": "https://localhost:8080/"
        },
        "id": "mxs2G0vag-RF",
        "outputId": "d36de44f-bdea-46a8-e01d-a6cbf52da37e"
      },
      "source": [
        "y_test[:5]"
      ],
      "execution_count": 40,
      "outputs": [
        {
          "output_type": "execute_result",
          "data": {
            "text/plain": [
              "array([69, 67, 27, 85, 54])"
            ]
          },
          "metadata": {
            "tags": []
          },
          "execution_count": 40
        }
      ]
    },
    {
      "cell_type": "code",
      "metadata": {
        "id": "LSYuNTBUhDtC"
      },
      "source": [
        "pred_df = pd.DataFrame({'True_Values': y_test, 'Predicted': predictions})"
      ],
      "execution_count": 41,
      "outputs": []
    },
    {
      "cell_type": "code",
      "metadata": {
        "colab": {
          "base_uri": "https://localhost:8080/",
          "height": 494
        },
        "id": "ZbOCWE0ChI6F",
        "outputId": "d67cf2af-c5e0-47ef-cb9b-0dd4efe7ca9a"
      },
      "source": [
        "plt.figure(figsize= (10,8))\n",
        "plt.title('True Values VS Predictions')\n",
        "sns.lineplot(data = pred_df)\n",
        "plt.show()\n"
      ],
      "execution_count": 42,
      "outputs": [
        {
          "output_type": "display_data",
          "data": {
            "image/png": "[encoded data removed]",
            "text/plain": [
              "<Figure size 720x576 with 1 Axes>"
            ]
          },
          "metadata": {
            "tags": []
          }
        }
      ]
    },
    {
      "cell_type": "code",
      "metadata": {
        "id": "DmsaWTl8hOu_"
      },
      "source": [
        "from sklearn.metrics import mean_squared_error ,mean_absolute_error"
      ],
      "execution_count": 43,
      "outputs": []
    },
    {
      "cell_type": "code",
      "metadata": {
        "colab": {
          "base_uri": "https://localhost:8080/"
        },
        "id": "VEt_xoxlhTO3",
        "outputId": "9b3150fb-92d1-4ba4-f26e-6e91f976eed4"
      },
      "source": [
        "print('MAE:', mean_absolute_error(y_test, predictions))\n",
        "print('MSE:', mean_squared_error(y_test, predictions))\n",
        "print('RMSE:', np.sqrt(mean_squared_error(y_test, predictions)))"
      ],
      "execution_count": 44,
      "outputs": [
        {
          "output_type": "stream",
          "text": [
            "MAE: 5.151430860805863\n",
            "MSE: 35.336530978693766\n",
            "RMSE: 5.944453799862\n"
          ],
          "name": "stdout"
        }
      ]
    },
    {
      "cell_type": "markdown",
      "metadata": {
        "id": "44KpurzFiuca"
      },
      "source": [
        "**Model Accuracy on Testing Dataset**"
      ]
    },
    {
      "cell_type": "code",
      "metadata": {
        "colab": {
          "base_uri": "https://localhost:8080/"
        },
        "id": "i84VVbVkhXRL",
        "outputId": "5d69d979-33bb-4515-f72f-7f5f2269026a"
      },
      "source": [
        "print('Model Accuracy:',model.score(X_test, y_test))"
      ],
      "execution_count": 45,
      "outputs": [
        {
          "output_type": "stream",
          "text": [
            "Model Accuracy: 0.9278978739033775\n"
          ],
          "name": "stdout"
        }
      ]
    },
    {
      "cell_type": "markdown",
      "metadata": {
        "id": "F5utxwmNi0Qu"
      },
      "source": [
        "**6.Predict the score if a student studies for 9.25 hours/day**"
      ]
    },
    {
      "cell_type": "code",
      "metadata": {
        "colab": {
          "base_uri": "https://localhost:8080/"
        },
        "id": "sFO_UCA_hbUg",
        "outputId": "d1ddf822-1099-49eb-ed72-6854778819dd"
      },
      "source": [
        "def predict(hours):\n",
        "    pred_score=model.predict(hours)\n",
        "    return round(pred_score[0],2)\n",
        "print('Predicted Score is:',predict([[9.25]]))"
      ],
      "execution_count": 46,
      "outputs": [
        {
          "output_type": "stream",
          "text": [
            "Predicted Score is: 89.56\n"
          ],
          "name": "stdout"
        }
      ]
    }
  ]
}